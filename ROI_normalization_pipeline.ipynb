{
 "cells": [
  {
   "cell_type": "markdown",
   "metadata": {},
   "source": [
    "# ROI Normalization\n",
    "This pipeline contains the basic functions to loop over the previously done annotations,and  extract the respective ROIs and Reference areas. Once all ROIS and Reference Areas are extracted, normalization can be applied."
   ]
  },
  {
   "cell_type": "code",
   "execution_count": 14,
   "metadata": {},
   "outputs": [],
   "source": [
    "import numpy as np\n",
    "import pandas as pd\n",
    "import os"
   ]
  },
  {
   "cell_type": "code",
   "execution_count": 15,
   "metadata": {},
   "outputs": [],
   "source": [
    "def combine_roi(path):\n",
    "    # Initialize an empty DataFrame to store all combined data\n",
    "    df_all = pd.DataFrame()\n",
    "\n",
    "    # Iterate over each file in the specified directory\n",
    "    for filename in os.listdir(path):\n",
    "        # Check if the file is a CSV file\n",
    "        if filename.endswith('.csv'):\n",
    "            # Construct the full file path\n",
    "            file_path = os.path.join(path, filename)\n",
    "            # Read the CSV file into a DataFrame\n",
    "            df = pd.read_csv(file_path)\n",
    "            # Concatenate the current DataFrame with the cumulative DataFrame\n",
    "            df_all = pd.concat([df_all, df], ignore_index=True)\n",
    "    \n",
    "    # Return the combined DataFrame containing data from all CSV files\n",
    "    return df_all\n"
   ]
  },
  {
   "cell_type": "code",
   "execution_count": 16,
   "metadata": {},
   "outputs": [],
   "source": [
    "def load_roi_ref(df_all, i, current_path):\n",
    "    # Extract the i-th row from the DataFrame\n",
    "    df_i = df_all.loc[i]\n",
    "\n",
    "    # Retrieve the relevant values from the DataFrame row\n",
    "    uid = df_i['uid']\n",
    "    handheld_type = df_i['handheld_type']\n",
    "    frame = df_i['frame']\n",
    "    roi_v1, roi_v2, roi_h1, roi_h2 = df_i['v1'], df_i['v2'], df_i['h1'], df_i['h2']\n",
    "    ref_v1, ref_v2, ref_h1, ref_h2 = df_i['v1_new'], df_i['v2_new'], df_i['h1_new'], df_i['h2_new']\n",
    "\n",
    "    # Construct the file path to the .npy file using the provided UID and handheld_type\n",
    "    path = os.path.join(current_path, \"pipeline-main\", \"pipeline-main\", \"RAW_DATA\", f\"{uid}\", \"Rohdaten\", \n",
    "                        \"raw_0_0.tar_extracted\", f\"{handheld_type}_large_rf.raw.rf.npy\")\n",
    "    \n",
    "    # Load the 3D numpy array from the specified file path\n",
    "    array3d = np.load(path)\n",
    "    \n",
    "    # Extract the 2D slice corresponding to the specified frame\n",
    "    array2d = array3d[:,:,frame]\n",
    "    \n",
    "    # Slice the array to get the ROI using the specified coordinates\n",
    "    roi = array2d[roi_h1:roi_h2, roi_v1:roi_v2]\n",
    "    \n",
    "    # Slice the array to get the reference region using the specified coordinates\n",
    "    reference = array2d[ref_h1:ref_h2, ref_v1:ref_v2]\n",
    "    \n",
    "    # Return the ROI and reference slices\n",
    "    return roi, reference\n"
   ]
  },
  {
   "cell_type": "code",
   "execution_count": 18,
   "metadata": {},
   "outputs": [
    {
     "name": "stdout",
     "output_type": "stream",
     "text": [
      "ROI shape: (36, 297)\n",
      "Reference shape: (36, 297)\n"
     ]
    }
   ],
   "source": [
    "current_path = os.getcwd()\n",
    "csv_path = os.path.join(current_path, \"pipeline-main\", \"pipeline-main\", \"testrun_1\")\n",
    "\n",
    "df_all = combine_roi(csv_path)\n",
    "roi, ref = load_roi_ref(df_all, 0, current_path)\n",
    "\n",
    "print(f\"ROI shape: {roi.shape}\")\n",
    "print(f\"Reference shape: {ref.shape}\")"
   ]
  },
  {
   "cell_type": "code",
   "execution_count": null,
   "metadata": {},
   "outputs": [],
   "source": []
  }
 ],
 "metadata": {
  "kernelspec": {
   "display_name": "sono",
   "language": "python",
   "name": "python3"
  },
  "language_info": {
   "codemirror_mode": {
    "name": "ipython",
    "version": 3
   },
   "file_extension": ".py",
   "mimetype": "text/x-python",
   "name": "python",
   "nbconvert_exporter": "python",
   "pygments_lexer": "ipython3",
   "version": "3.10.14"
  }
 },
 "nbformat": 4,
 "nbformat_minor": 2
}
